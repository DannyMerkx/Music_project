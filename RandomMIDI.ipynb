{
 "cells": [
  {
   "cell_type": "code",
   "execution_count": 222,
   "metadata": {
    "collapsed": false
   },
   "outputs": [],
   "source": [
    "import os\n",
    "import mido\n",
    "from mido import MidiFile, MidiTrack, Message\n",
    "import random\n",
    "from numpy import random as nprnd"
   ]
  },
  {
   "cell_type": "code",
   "execution_count": 223,
   "metadata": {
    "collapsed": false
   },
   "outputs": [],
   "source": [
    "def generate_random(snote=50, mlength=12, numofmidi=10, pitchrnd=False, timernd=False):\n",
    "    \n",
    "    notes = range(snote, snote+mlength)\n",
    "    times = range(50,300)\n",
    "    time = 100 \n",
    "\n",
    "    # pitch range for random pitch value ;\n",
    "    pitches = range(-8192,8191)\n",
    "    \n",
    "    # Create music folder if it does not exist\n",
    "    if not os.path.exists('music'):\n",
    "        os.makedirs('music')\n",
    "\n",
    "    for j in range(numofmidi):\n",
    "    \n",
    "        mid = MidiFile(type=0) # type0 can have only one track\n",
    "    \n",
    "        track = MidiTrack() # note list (kind of)\n",
    "\n",
    "        mid.tracks.append(track)\n",
    "    \n",
    "        # the note which the pitch will change for\n",
    "        pcnote = random.choice(noterange)\n",
    "    \n",
    "        for i in range(mlength):\n",
    "        \n",
    "            note = random.choice(notes)\n",
    "            pitch = random.choice(pitches)\n",
    "            \n",
    "            if timernd:\n",
    "                time = random.choice(times)\n",
    "        \n",
    "            if pitchrnd:\n",
    "                # Change the pitch for only one note\n",
    "                if i == pcnote: # Change the pitch on third note\n",
    "                    track.append(Message('pitchwheel', pitch=pitch))\n",
    "                if i == (pcnote+1): # Change the pitch back to default\n",
    "                    track.append(Message('pitchwheel'))\n",
    "        \n",
    "            track.append(Message('note_on', channel=0, note=note, time=time))\n",
    "            track.append(Message('note_off', channel=0, note=note, time=time))\n",
    "        \n",
    "\n",
    "        mid.save('music/random' + str(j) + '.mid')"
   ]
  },
  {
   "cell_type": "code",
   "execution_count": 224,
   "metadata": {
    "collapsed": true
   },
   "outputs": [],
   "source": [
    "def fitnessfunction(m,p):\n",
    "    fitness = 1\n",
    "    for x in range (1,mlength):\n",
    "        fitness= fitness * p[m[x-1]][m[x]]\n",
    "    return fitness"
   ]
  },
  {
   "cell_type": "code",
   "execution_count": 225,
   "metadata": {
    "collapsed": false
   },
   "outputs": [],
   "source": [
    "def mutate(notelist, mlength=12):\n",
    "    \n",
    "    prob = []    \n",
    "    for x in range(0,12):\n",
    "        a=nprnd.sample(12)\n",
    "        a=a/sum(a)\n",
    "        prob.append(a)\n",
    "    \n",
    "    bestscore = 0  \n",
    "    progress = []\n",
    "    mutaterange=[0,1,2,3,4,5,6,7,8,9,10,11]\n",
    "    \n",
    "    # notelist of the midi\n",
    "    bestmelody = notelist\n",
    "    \n",
    "    #each loop decreases the number of mutations per round\n",
    "    for i in range (0,5):\n",
    "\n",
    "        #each loop mutates the currentbest, checks it's fitness and updates currentbest   \n",
    "        for x in range (0,1000):\n",
    "            melody=list(bestmelody)      \n",
    "            r = nprnd.randint(0,mlength,abs(i-6))\n",
    "            for z in r:\n",
    "                mutaterangecopy=list(mutaterange)\n",
    "                mutaterangecopy.remove(melody[z])\n",
    "                melody[z]= nprnd.choice(mutaterangecopy,1)[0]\n",
    "        \n",
    "        \n",
    "            currentscore = fitnessfunction(melody,prob)\n",
    "            if currentscore >= bestscore:\n",
    "                bestscore = currentscore\n",
    "                bestmelody = list(melody)\n",
    "        \n",
    "            progress.append(bestscore)\n",
    "            \n",
    "    return bestmelody"
   ]
  },
  {
   "cell_type": "code",
   "execution_count": 226,
   "metadata": {
    "collapsed": false
   },
   "outputs": [],
   "source": [
    "def apply_mutation(mutantnotelist, midino, snote=50):\n",
    "\n",
    "    mid = MidiFile(type=0) # type0 can have only one track\n",
    "    \n",
    "    track = MidiTrack() # note list (kind of)\n",
    "\n",
    "    mid.tracks.append(track)\n",
    "    \n",
    "    time = 100\n",
    "    \n",
    "    # Create mutant music folder if it does not exist\n",
    "    if not os.path.exists('mutantmusic'):\n",
    "        os.makedirs('mutantmusic')\n",
    "    \n",
    "    # add the octaves back\n",
    "    mutantnotelist2 = [x+snote for x in mutantnotelist]\n",
    "    \n",
    "    for note in mutantnotelist2:\n",
    "        \n",
    "        #print(note)\n",
    "        \n",
    "        track.append(Message('note_on', channel=0, note=int(note), time=time))\n",
    "        track.append(Message('note_off', channel=0, note=int(note), time=time))\n",
    "        \n",
    "        \n",
    "    mid.save('mutantmusic/random' + str(midino) + '.mid')"
   ]
  },
  {
   "cell_type": "code",
   "execution_count": 227,
   "metadata": {
    "collapsed": true
   },
   "outputs": [],
   "source": [
    "def read_midi(filename='music/random4.mid', snote=50):\n",
    "    \n",
    "    mid = MidiFile(filename)\n",
    "    \n",
    "    noteonlist = []\n",
    "    for i, track in enumerate(mid.tracks):\n",
    "        #print('Track {}: {}'.format(i, track.name))\n",
    "        for message in track:\n",
    "            #print(message)\n",
    "            if message.type == 'note_on':\n",
    "                noteonlist.append(message.note)\n",
    "    \n",
    "    # normalize the note integers for mutation by reducing octaves\n",
    "    notelist = [x-snote for x in noteonlist]\n",
    "    \n",
    "    return notelist"
   ]
  },
  {
   "cell_type": "code",
   "execution_count": 228,
   "metadata": {
    "collapsed": true
   },
   "outputs": [],
   "source": [
    "mlength = 12\n",
    "snote = 50 # starting note\n",
    "numofmidi = 10 # number of midi files\n",
    "pitch=False # do not include pitch variations for now"
   ]
  },
  {
   "cell_type": "code",
   "execution_count": 229,
   "metadata": {
    "collapsed": false
   },
   "outputs": [],
   "source": [
    "generate_random(snote, mlength, numofmidi, pitch)\n",
    "\n",
    "for j in range(numofmidi):\n",
    "    \n",
    "    midiname = 'music/random' + str(j) + '.mid'\n",
    "    \n",
    "    notelist = read_midi(midiname)\n",
    "    \n",
    "    mutantnotelist = mutate(notelist)\n",
    "    \n",
    "    apply_mutation(mutantnotelist, j)\n",
    "    \n",
    "    "
   ]
  },
  {
   "cell_type": "code",
   "execution_count": null,
   "metadata": {
    "collapsed": true
   },
   "outputs": [],
   "source": []
  }
 ],
 "metadata": {
  "kernelspec": {
   "display_name": "Python 3",
   "language": "python",
   "name": "python3"
  },
  "language_info": {
   "codemirror_mode": {
    "name": "ipython",
    "version": 3
   },
   "file_extension": ".py",
   "mimetype": "text/x-python",
   "name": "python",
   "nbconvert_exporter": "python",
   "pygments_lexer": "ipython3",
   "version": "3.5.1"
  }
 },
 "nbformat": 4,
 "nbformat_minor": 0
}
